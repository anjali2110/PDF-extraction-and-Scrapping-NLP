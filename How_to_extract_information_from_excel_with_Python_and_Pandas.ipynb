{
 "cells": [
  {
   "cell_type": "markdown",
   "metadata": {},
   "source": [
    "## How to extract information from excel with Python and Pandas\n",
    "\n",
    "source\n",
    "\n",
    "http://blog.softhints.com/excel-export-results-read-excel-python-pandas/\n",
    "\n",
    "requirements:\n",
    "\n",
    "```\n",
    "pip install xlrd\n",
    "pip install pandas\n",
    "```"
   ]
  },
  {
   "cell_type": "code",
   "execution_count": 1,
   "metadata": {},
   "outputs": [],
   "source": [
    "import pandas as pd"
   ]
  },
  {
   "cell_type": "code",
   "execution_count": 2,
   "metadata": {},
   "outputs": [],
   "source": [
    "pd.set_option('display.max_columns', None)  # or 1000\n",
    "pd.set_option('display.max_rows', None)  # or 1000\n",
    "pd.set_option('display.max_colwidth', -1)  # or 199"
   ]
  },
  {
   "cell_type": "markdown",
   "metadata": {},
   "source": [
    "## Read excel file with python/pandas"
   ]
  },
  {
   "cell_type": "code",
   "execution_count": 3,
   "metadata": {},
   "outputs": [],
   "source": [
    "# read the file\n",
    "xls = pd.ExcelFile('~/Documents/example.xlsx')"
   ]
  },
  {
   "cell_type": "code",
   "execution_count": 4,
   "metadata": {},
   "outputs": [
    {
     "data": {
      "text/plain": [
       "['People', 'Events', 'Countries']"
      ]
     },
     "execution_count": 4,
     "metadata": {},
     "output_type": "execute_result"
    }
   ],
   "source": [
    "# get all sheet names\n",
    "sheet_names = xls.sheet_names\n",
    "sheet_names"
   ]
  },
  {
   "cell_type": "code",
   "execution_count": 7,
   "metadata": {},
   "outputs": [
    {
     "data": {
      "text/html": [
       "<div>\n",
       "<style scoped>\n",
       "    .dataframe tbody tr th:only-of-type {\n",
       "        vertical-align: middle;\n",
       "    }\n",
       "\n",
       "    .dataframe tbody tr th {\n",
       "        vertical-align: top;\n",
       "    }\n",
       "\n",
       "    .dataframe thead th {\n",
       "        text-align: right;\n",
       "    }\n",
       "</style>\n",
       "<table border=\"1\" class=\"dataframe\">\n",
       "  <thead>\n",
       "    <tr style=\"text-align: right;\">\n",
       "      <th></th>\n",
       "      <th>#</th>\n",
       "      <th>Event</th>\n",
       "      <th>Date</th>\n",
       "      <th>Venue</th>\n",
       "      <th>Location</th>\n",
       "      <th>Attendance</th>\n",
       "      <th>Ref.</th>\n",
       "    </tr>\n",
       "  </thead>\n",
       "  <tbody>\n",
       "    <tr>\n",
       "      <th>0</th>\n",
       "      <td>465</td>\n",
       "      <td>UFC Fight Night: Assunção vs. Moraes 2</td>\n",
       "      <td>Feb 2, 2019</td>\n",
       "      <td>Centro de Formação Olímpica do Nordeste</td>\n",
       "      <td>Fortaleza, Brazil</td>\n",
       "      <td>10040</td>\n",
       "      <td>[21]</td>\n",
       "    </tr>\n",
       "    <tr>\n",
       "      <th>1</th>\n",
       "      <td>–</td>\n",
       "      <td>UFC 233</td>\n",
       "      <td>Jan 26, 2019</td>\n",
       "      <td>Honda Center</td>\n",
       "      <td>Anaheim, California, U.S.</td>\n",
       "      <td>Cancelled</td>\n",
       "      <td>[22]</td>\n",
       "    </tr>\n",
       "    <tr>\n",
       "      <th>2</th>\n",
       "      <td>464</td>\n",
       "      <td>UFC Fight Night: Cejudo vs. Dillashaw</td>\n",
       "      <td>Jan 19, 2019</td>\n",
       "      <td>Barclays Center</td>\n",
       "      <td>Brooklyn, New York, U.S.</td>\n",
       "      <td>12152</td>\n",
       "      <td>[23]</td>\n",
       "    </tr>\n",
       "    <tr>\n",
       "      <th>3</th>\n",
       "      <td>463</td>\n",
       "      <td>UFC 232: Jones vs. Gustafsson 2</td>\n",
       "      <td>Dec 29, 2018</td>\n",
       "      <td>The Forum</td>\n",
       "      <td>Inglewood, California, U.S.</td>\n",
       "      <td>15862</td>\n",
       "      <td>[24]</td>\n",
       "    </tr>\n",
       "    <tr>\n",
       "      <th>4</th>\n",
       "      <td>462</td>\n",
       "      <td>UFC on Fox: Lee vs. Iaquinta 2</td>\n",
       "      <td>Dec 15, 2018</td>\n",
       "      <td>Fiserv Forum</td>\n",
       "      <td>Milwaukee, Wisconsin, U.S.</td>\n",
       "      <td>9010</td>\n",
       "      <td>[25]</td>\n",
       "    </tr>\n",
       "    <tr>\n",
       "      <th>5</th>\n",
       "      <td>461</td>\n",
       "      <td>UFC 231: Holloway vs. Ortega</td>\n",
       "      <td>Dec 8, 2018</td>\n",
       "      <td>Scotiabank Arena</td>\n",
       "      <td>Toronto, Ontario, Canada</td>\n",
       "      <td>19039</td>\n",
       "      <td>[26]</td>\n",
       "    </tr>\n",
       "    <tr>\n",
       "      <th>6</th>\n",
       "      <td>460</td>\n",
       "      <td>UFC Fight Night: dos Santos vs. Tuivasa</td>\n",
       "      <td>Dec 2, 2018</td>\n",
       "      <td>Adelaide Entertainment Centre</td>\n",
       "      <td>Adelaide, Australia</td>\n",
       "      <td>8652</td>\n",
       "      <td>[27]</td>\n",
       "    </tr>\n",
       "    <tr>\n",
       "      <th>7</th>\n",
       "      <td>459</td>\n",
       "      <td>The Ultimate Fighter: Heavy Hitters Finale</td>\n",
       "      <td>Nov 30, 2018</td>\n",
       "      <td>Pearl Theatre</td>\n",
       "      <td>Las Vegas, Nevada, U.S.</td>\n",
       "      <td>2020</td>\n",
       "      <td>[28]</td>\n",
       "    </tr>\n",
       "    <tr>\n",
       "      <th>8</th>\n",
       "      <td>458</td>\n",
       "      <td>UFC Fight Night: Blaydes vs. Ngannou 2</td>\n",
       "      <td>Nov 24, 2018</td>\n",
       "      <td>Cadillac Arena</td>\n",
       "      <td>Beijing, China</td>\n",
       "      <td>10302</td>\n",
       "      <td>[29]</td>\n",
       "    </tr>\n",
       "    <tr>\n",
       "      <th>9</th>\n",
       "      <td>457</td>\n",
       "      <td>UFC Fight Night: Magny vs. Ponzinibbio</td>\n",
       "      <td>Nov 17, 2018</td>\n",
       "      <td>Estadio Mary Terán de Weiss</td>\n",
       "      <td>Buenos Aires, Argentina</td>\n",
       "      <td>10245</td>\n",
       "      <td>[30]</td>\n",
       "    </tr>\n",
       "  </tbody>\n",
       "</table>\n",
       "</div>"
      ],
      "text/plain": [
       "     #                                       Event          Date  \\\n",
       "0  465  UFC Fight Night: Assunção vs. Moraes 2      Feb 2, 2019    \n",
       "1  –    UFC 233                                     Jan 26, 2019   \n",
       "2  464  UFC Fight Night: Cejudo vs. Dillashaw       Jan 19, 2019   \n",
       "3  463  UFC 232: Jones vs. Gustafsson 2             Dec 29, 2018   \n",
       "4  462  UFC on Fox: Lee vs. Iaquinta 2              Dec 15, 2018   \n",
       "5  461  UFC 231: Holloway vs. Ortega                Dec 8, 2018    \n",
       "6  460  UFC Fight Night: dos Santos vs. Tuivasa     Dec 2, 2018    \n",
       "7  459  The Ultimate Fighter: Heavy Hitters Finale  Nov 30, 2018   \n",
       "8  458  UFC Fight Night: Blaydes vs. Ngannou 2      Nov 24, 2018   \n",
       "9  457  UFC Fight Night: Magny vs. Ponzinibbio      Nov 17, 2018   \n",
       "\n",
       "                                     Venue                     Location  \\\n",
       "0  Centro de Formação Olímpica do Nordeste  Fortaleza, Brazil             \n",
       "1  Honda Center                             Anaheim, California, U.S.     \n",
       "2  Barclays Center                          Brooklyn, New York, U.S.      \n",
       "3  The Forum                                Inglewood, California, U.S.   \n",
       "4  Fiserv Forum                             Milwaukee, Wisconsin, U.S.    \n",
       "5  Scotiabank Arena                         Toronto, Ontario, Canada      \n",
       "6  Adelaide Entertainment Centre            Adelaide, Australia           \n",
       "7  Pearl Theatre                            Las Vegas, Nevada, U.S.       \n",
       "8  Cadillac Arena                           Beijing, China                \n",
       "9  Estadio Mary Terán de Weiss              Buenos Aires, Argentina       \n",
       "\n",
       "  Attendance  Ref.  \n",
       "0  10040      [21]  \n",
       "1  Cancelled  [22]  \n",
       "2  12152      [23]  \n",
       "3  15862      [24]  \n",
       "4  9010       [25]  \n",
       "5  19039      [26]  \n",
       "6  8652       [27]  \n",
       "7  2020       [28]  \n",
       "8  10302      [29]  \n",
       "9  10245      [30]  "
      ]
     },
     "execution_count": 7,
     "metadata": {},
     "output_type": "execute_result"
    }
   ],
   "source": [
    "# get infomration only for one sheet\n",
    "df = pd.read_excel(xls, \"Events\")\n",
    "df.head(10)        "
   ]
  },
  {
   "cell_type": "markdown",
   "metadata": {},
   "source": [
    "## Working with many sheets"
   ]
  },
  {
   "cell_type": "code",
   "execution_count": 8,
   "metadata": {},
   "outputs": [
    {
     "name": "stdout",
     "output_type": "stream",
     "text": [
      "##################################  People   ##################################\n",
      "   OrderDate  Country   Region\n",
      "0  1/6/2018   US       East   \n",
      "1  1/23/2018  Brazil   Central\n",
      "2  2/9/2018   Congo    Central\n",
      "3  2/26/2018  Japan    Central\n",
      "4  3/15/2018  Germany  West   \n",
      "##################################  Events   ##################################\n",
      "     #                                   Event          Date\n",
      "0  465  UFC Fight Night: Assunção vs. Moraes 2  Feb 2, 2019 \n",
      "1  –    UFC 233                                 Jan 26, 2019\n",
      "2  464  UFC Fight Night: Cejudo vs. Dillashaw   Jan 19, 2019\n",
      "3  463  UFC 232: Jones vs. Gustafsson 2         Dec 29, 2018\n",
      "4  462  UFC on Fox: Lee vs. Iaquinta 2          Dec 15, 2018\n",
      "##################################  Countries   ##################################\n",
      "   0  Rank       Country\n",
      "0  1  1.0   Russia*     \n",
      "1  2  2.0   China*      \n",
      "2  3  3.0   India       \n",
      "3  4  4.0   Kazakhstan* \n",
      "4  5  5.0   Saudi Arabia\n"
     ]
    }
   ],
   "source": [
    "# read all sheets and extract first 5 rows, 3 columns\n",
    "for tab in sheet_names:\n",
    "    print('##################################  ' + tab + '   ##################################')\n",
    "    df = pd.read_excel(xls, tab)\n",
    "    print(df.iloc[:5, :3])"
   ]
  },
  {
   "cell_type": "markdown",
   "metadata": {},
   "source": [
    "## Search one sheet, one column for a string"
   ]
  },
  {
   "cell_type": "code",
   "execution_count": 9,
   "metadata": {},
   "outputs": [
    {
     "data": {
      "text/html": [
       "<div>\n",
       "<style scoped>\n",
       "    .dataframe tbody tr th:only-of-type {\n",
       "        vertical-align: middle;\n",
       "    }\n",
       "\n",
       "    .dataframe tbody tr th {\n",
       "        vertical-align: top;\n",
       "    }\n",
       "\n",
       "    .dataframe thead th {\n",
       "        text-align: right;\n",
       "    }\n",
       "</style>\n",
       "<table border=\"1\" class=\"dataframe\">\n",
       "  <thead>\n",
       "    <tr style=\"text-align: right;\">\n",
       "      <th></th>\n",
       "      <th>0</th>\n",
       "      <th>Rank</th>\n",
       "      <th>Country</th>\n",
       "      <th>Area (km²)</th>\n",
       "      <th>Notes</th>\n",
       "      <th>NaN</th>\n",
       "    </tr>\n",
       "  </thead>\n",
       "  <tbody>\n",
       "    <tr>\n",
       "      <th>0</th>\n",
       "      <td>1</td>\n",
       "      <td>1.0</td>\n",
       "      <td>Russia*</td>\n",
       "      <td>13100000</td>\n",
       "      <td>17,125,200 including European part</td>\n",
       "      <td>NaN</td>\n",
       "    </tr>\n",
       "    <tr>\n",
       "      <th>1</th>\n",
       "      <td>2</td>\n",
       "      <td>2.0</td>\n",
       "      <td>China*</td>\n",
       "      <td>9596961</td>\n",
       "      <td>excludes Hong Kong, Macau, Taiwan and disputed...</td>\n",
       "      <td>NaN</td>\n",
       "    </tr>\n",
       "    <tr>\n",
       "      <th>2</th>\n",
       "      <td>3</td>\n",
       "      <td>3.0</td>\n",
       "      <td>India</td>\n",
       "      <td>3287263</td>\n",
       "      <td>NaN</td>\n",
       "      <td>NaN</td>\n",
       "    </tr>\n",
       "    <tr>\n",
       "      <th>3</th>\n",
       "      <td>4</td>\n",
       "      <td>4.0</td>\n",
       "      <td>Kazakhstan*</td>\n",
       "      <td>2455034</td>\n",
       "      <td>2,724,902 km² including European part</td>\n",
       "      <td>NaN</td>\n",
       "    </tr>\n",
       "    <tr>\n",
       "      <th>4</th>\n",
       "      <td>5</td>\n",
       "      <td>5.0</td>\n",
       "      <td>Saudi Arabia</td>\n",
       "      <td>2149690</td>\n",
       "      <td>NaN</td>\n",
       "      <td>NaN</td>\n",
       "    </tr>\n",
       "    <tr>\n",
       "      <th>5</th>\n",
       "      <td>6</td>\n",
       "      <td>6.0</td>\n",
       "      <td>Iran</td>\n",
       "      <td>1648195</td>\n",
       "      <td>NaN</td>\n",
       "      <td>NaN</td>\n",
       "    </tr>\n",
       "    <tr>\n",
       "      <th>6</th>\n",
       "      <td>7</td>\n",
       "      <td>7.0</td>\n",
       "      <td>Mongolia</td>\n",
       "      <td>1564110</td>\n",
       "      <td>NaN</td>\n",
       "      <td>NaN</td>\n",
       "    </tr>\n",
       "    <tr>\n",
       "      <th>7</th>\n",
       "      <td>8</td>\n",
       "      <td>8.0</td>\n",
       "      <td>Indonesia*</td>\n",
       "      <td>1472639</td>\n",
       "      <td>1,904,569 km² including Oceanian part</td>\n",
       "      <td>NaN</td>\n",
       "    </tr>\n",
       "    <tr>\n",
       "      <th>8</th>\n",
       "      <td>9</td>\n",
       "      <td>9.0</td>\n",
       "      <td>Pakistan</td>\n",
       "      <td>796095</td>\n",
       "      <td>882,363 km² including Gilgit-Baltistan and AJK</td>\n",
       "      <td>NaN</td>\n",
       "    </tr>\n",
       "    <tr>\n",
       "      <th>9</th>\n",
       "      <td>10</td>\n",
       "      <td>10.0</td>\n",
       "      <td>Turkey*</td>\n",
       "      <td>747272</td>\n",
       "      <td>783,562 km² including European part</td>\n",
       "      <td>NaN</td>\n",
       "    </tr>\n",
       "  </tbody>\n",
       "</table>\n",
       "</div>"
      ],
      "text/plain": [
       "    0  Rank       Country  Area (km²)  \\\n",
       "0  1   1.0   Russia*       13100000     \n",
       "1  2   2.0   China*        9596961      \n",
       "2  3   3.0   India         3287263      \n",
       "3  4   4.0   Kazakhstan*   2455034      \n",
       "4  5   5.0   Saudi Arabia  2149690      \n",
       "5  6   6.0   Iran          1648195      \n",
       "6  7   7.0   Mongolia      1564110      \n",
       "7  8   8.0   Indonesia*    1472639      \n",
       "8  9   9.0   Pakistan      796095       \n",
       "9  10  10.0  Turkey*       747272       \n",
       "\n",
       "                                               Notes  NaN  \n",
       "0  17,125,200 including European part                NaN   \n",
       "1  excludes Hong Kong, Macau, Taiwan and disputed... NaN   \n",
       "2  NaN                                               NaN   \n",
       "3  2,724,902 km² including European part             NaN   \n",
       "4  NaN                                               NaN   \n",
       "5  NaN                                               NaN   \n",
       "6  NaN                                               NaN   \n",
       "7  1,904,569 km² including Oceanian part             NaN   \n",
       "8  882,363 km² including Gilgit-Baltistan and AJK    NaN   \n",
       "9  783,562 km² including European part               NaN   "
      ]
     },
     "execution_count": 9,
     "metadata": {},
     "output_type": "execute_result"
    }
   ],
   "source": [
    "df = pd.read_excel(xls, \"Countries\")\n",
    "df.head(10)    \n",
    "    "
   ]
  },
  {
   "cell_type": "code",
   "execution_count": 12,
   "metadata": {},
   "outputs": [
    {
     "data": {
      "text/html": [
       "<div>\n",
       "<style scoped>\n",
       "    .dataframe tbody tr th:only-of-type {\n",
       "        vertical-align: middle;\n",
       "    }\n",
       "\n",
       "    .dataframe tbody tr th {\n",
       "        vertical-align: top;\n",
       "    }\n",
       "\n",
       "    .dataframe thead th {\n",
       "        text-align: right;\n",
       "    }\n",
       "</style>\n",
       "<table border=\"1\" class=\"dataframe\">\n",
       "  <thead>\n",
       "    <tr style=\"text-align: right;\">\n",
       "      <th></th>\n",
       "      <th>0</th>\n",
       "      <th>Rank</th>\n",
       "      <th>Country</th>\n",
       "      <th>Area (km²)</th>\n",
       "      <th>Notes</th>\n",
       "      <th>NaN</th>\n",
       "    </tr>\n",
       "  </thead>\n",
       "  <tbody>\n",
       "    <tr>\n",
       "      <th>1</th>\n",
       "      <td>2</td>\n",
       "      <td>2.0</td>\n",
       "      <td>China*</td>\n",
       "      <td>9596961</td>\n",
       "      <td>excludes Hong Kong, Macau, Taiwan and disputed...</td>\n",
       "      <td>NaN</td>\n",
       "    </tr>\n",
       "  </tbody>\n",
       "</table>\n",
       "</div>"
      ],
      "text/plain": [
       "   0  Rank Country  Area (km²)  \\\n",
       "1  2  2.0   China*  9596961      \n",
       "\n",
       "                                               Notes  NaN  \n",
       "1  excludes Hong Kong, Macau, Taiwan and disputed... NaN   "
      ]
     },
     "execution_count": 12,
     "metadata": {},
     "output_type": "execute_result"
    }
   ],
   "source": [
    "agg = df[df['Country'].str.contains('China', na=False)]\n",
    "agg"
   ]
  },
  {
   "cell_type": "markdown",
   "metadata": {},
   "source": [
    "## Search in all sheets for a string"
   ]
  },
  {
   "cell_type": "code",
   "execution_count": 13,
   "metadata": {},
   "outputs": [
    {
     "name": "stdout",
     "output_type": "stream",
     "text": [
      "##################################  People   ##################################\n",
      "   Country\n",
      "3   Japan \n",
      "6   Japan \n",
      "18  Japan \n",
      "26  Japan \n",
      "30  Japan \n",
      "##################################  Events   ##################################\n",
      " no column Country \n",
      "##################################  Countries   ##################################\n",
      "   Country\n",
      "17  Japan \n"
     ]
    }
   ],
   "source": [
    "# search in every sheet in column Country for word 'Japan'\n",
    "# print out message if the column is missing\n",
    "for tab in sheet_names:\n",
    "    print('##################################  ' + tab + '   ##################################')\n",
    "    df = pd.read_excel(xls, tab)\n",
    "    try:\n",
    "        agg = df[df['Country'].str.contains('Japan', na=False)]\n",
    "        print(agg[['Country']])\n",
    "    except KeyError:\n",
    "        print(' no column Country ')"
   ]
  },
  {
   "cell_type": "code",
   "execution_count": 15,
   "metadata": {},
   "outputs": [
    {
     "name": "stdout",
     "output_type": "stream",
     "text": [
      "##################################  People   ##################################\n",
      "   Country\n",
      "14  China \n",
      "16  China \n",
      "22  China \n",
      "32  China \n",
      "33  China \n",
      "##################################  Events   ##################################\n",
      " no tab Country \n",
      "##################################  Countries   ##################################\n",
      "  Country\n",
      "1  China*\n"
     ]
    }
   ],
   "source": [
    "# search for a partial match\n",
    "for tab in sheet_names:\n",
    "    print('##################################  ' + tab + '   ##################################')\n",
    "    df = pd.read_excel(xls, tab)\n",
    "    try:\n",
    "        agg = df[df['Country'].str.contains('China', na=False)]\n",
    "        print(agg[['Country']])\n",
    "    except KeyError:\n",
    "        print(' no tab Country ')"
   ]
  },
  {
   "cell_type": "code",
   "execution_count": 14,
   "metadata": {},
   "outputs": [
    {
     "name": "stdout",
     "output_type": "stream",
     "text": [
      "##################################  People   ##################################\n",
      "   Country\n",
      "14  China \n",
      "16  China \n",
      "22  China \n",
      "32  China \n",
      "33  China \n",
      "##################################  Events   ##################################\n",
      " no tab Country \n",
      "##################################  Countries   ##################################\n",
      "Empty DataFrame\n",
      "Columns: [Country]\n",
      "Index: []\n"
     ]
    }
   ],
   "source": [
    "# search for a exact match\n",
    "for tab in sheet_names:\n",
    "    print('##################################  ' + tab + '   ##################################')\n",
    "    df = pd.read_excel(xls, tab)\n",
    "    try:\n",
    "        agg = df[df['Country'] == 'China']\n",
    "        print(agg[['Country']])\n",
    "    except KeyError:\n",
    "        print(' no tab Country ')"
   ]
  },
  {
   "cell_type": "code",
   "execution_count": null,
   "metadata": {},
   "outputs": [],
   "source": []
  }
 ],
 "metadata": {
  "kernelspec": {
   "display_name": "Python 3",
   "language": "python",
   "name": "python3"
  },
  "language_info": {
   "codemirror_mode": {
    "name": "ipython",
    "version": 3
   },
   "file_extension": ".py",
   "mimetype": "text/x-python",
   "name": "python",
   "nbconvert_exporter": "python",
   "pygments_lexer": "ipython3",
   "version": "3.6.7"
  }
 },
 "nbformat": 4,
 "nbformat_minor": 2
}
