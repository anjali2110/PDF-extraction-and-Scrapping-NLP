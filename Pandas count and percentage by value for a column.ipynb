{
 "cells": [
  {
   "cell_type": "markdown",
   "metadata": {},
   "source": [
    "## Pandas count and percentage by value for a column\n",
    "\n",
    "* read remote data from pdf\n",
    "* calculate count and percent\n",
    "* format percent in better output\n",
    "\n",
    "Bonus\n",
    "\n",
    "* pandas column renaming"
   ]
  },
  {
   "cell_type": "code",
   "execution_count": 1,
   "metadata": {},
   "outputs": [
    {
     "data": {
      "text/html": [
       "<div>\n",
       "<style scoped>\n",
       "    .dataframe tbody tr th:only-of-type {\n",
       "        vertical-align: middle;\n",
       "    }\n",
       "\n",
       "    .dataframe tbody tr th {\n",
       "        vertical-align: top;\n",
       "    }\n",
       "\n",
       "    .dataframe thead th {\n",
       "        text-align: right;\n",
       "    }\n",
       "</style>\n",
       "<table border=\"1\" class=\"dataframe\">\n",
       "  <thead>\n",
       "    <tr style=\"text-align: right;\">\n",
       "      <th></th>\n",
       "      <th>food</th>\n",
       "      <th>Portion size</th>\n",
       "      <th>per 100 grams</th>\n",
       "      <th>energy</th>\n",
       "    </tr>\n",
       "  </thead>\n",
       "  <tbody>\n",
       "    <tr>\n",
       "      <th>0</th>\n",
       "      <td>Fish cake</td>\n",
       "      <td>90 cals per cake</td>\n",
       "      <td>200 cals</td>\n",
       "      <td>Medium</td>\n",
       "    </tr>\n",
       "    <tr>\n",
       "      <th>1</th>\n",
       "      <td>Fish fingers</td>\n",
       "      <td>50 cals per piece</td>\n",
       "      <td>220 cals</td>\n",
       "      <td>Medium</td>\n",
       "    </tr>\n",
       "    <tr>\n",
       "      <th>2</th>\n",
       "      <td>Gammon</td>\n",
       "      <td>320 cals</td>\n",
       "      <td>280 cals</td>\n",
       "      <td>Med-High</td>\n",
       "    </tr>\n",
       "    <tr>\n",
       "      <th>3</th>\n",
       "      <td>Haddock fresh</td>\n",
       "      <td>200 cals</td>\n",
       "      <td>110 cals</td>\n",
       "      <td>Low calorie</td>\n",
       "    </tr>\n",
       "    <tr>\n",
       "      <th>4</th>\n",
       "      <td>Halibut fresh</td>\n",
       "      <td>220 cals</td>\n",
       "      <td>125 cals</td>\n",
       "      <td>Low calorie</td>\n",
       "    </tr>\n",
       "  </tbody>\n",
       "</table>\n",
       "</div>"
      ],
      "text/plain": [
       "            food      Portion size  per 100 grams       energy\n",
       "0      Fish cake   90 cals per cake      200 cals       Medium\n",
       "1   Fish fingers  50 cals per piece      220 cals       Medium\n",
       "2         Gammon           320 cals      280 cals     Med-High\n",
       "3  Haddock fresh           200 cals      110 cals  Low calorie\n",
       "4  Halibut fresh           220 cals      125 cals  Low calorie"
      ]
     },
     "execution_count": 1,
     "metadata": {},
     "output_type": "execute_result"
    }
   ],
   "source": [
    "from tabula import read_pdf\n",
    "import pandas as pd\n",
    "df = read_pdf(\"http://www.uncledavesenterprise.com/file/health/Food%20Calories%20List.pdf\", pages=3, pandas_options={'header': None})\n",
    "df.columns = ['food', 'Portion size ', 'per 100 grams', 'energy']\n",
    "df.head()"
   ]
  },
  {
   "cell_type": "code",
   "execution_count": 2,
   "metadata": {},
   "outputs": [],
   "source": [
    "s = df.energy"
   ]
  },
  {
   "cell_type": "code",
   "execution_count": 3,
   "metadata": {},
   "outputs": [
    {
     "data": {
      "text/plain": [
       "Medium         14\n",
       "High            6\n",
       "Low calorie     4\n",
       "Med-High        4\n",
       "Low-Med         1\n",
       "Low- Med        1\n",
       "Name: energy, dtype: int64"
      ]
     },
     "execution_count": 3,
     "metadata": {},
     "output_type": "execute_result"
    }
   ],
   "source": [
    "counts = s.value_counts()\n",
    "counts"
   ]
  },
  {
   "cell_type": "code",
   "execution_count": 4,
   "metadata": {},
   "outputs": [
    {
     "data": {
      "text/plain": [
       "Medium         0.466667\n",
       "High           0.200000\n",
       "Low calorie    0.133333\n",
       "Med-High       0.133333\n",
       "Low-Med        0.033333\n",
       "Low- Med       0.033333\n",
       "Name: energy, dtype: float64"
      ]
     },
     "execution_count": 4,
     "metadata": {},
     "output_type": "execute_result"
    }
   ],
   "source": [
    "percent = s.value_counts(normalize=True)\n",
    "percent"
   ]
  },
  {
   "cell_type": "code",
   "execution_count": 5,
   "metadata": {},
   "outputs": [
    {
     "data": {
      "text/plain": [
       "Medium         46.7%\n",
       "High           20.0%\n",
       "Low calorie    13.3%\n",
       "Med-High       13.3%\n",
       "Low-Med         3.3%\n",
       "Low- Med        3.3%\n",
       "Name: energy, dtype: object"
      ]
     },
     "execution_count": 5,
     "metadata": {},
     "output_type": "execute_result"
    }
   ],
   "source": [
    "percent100 = s.value_counts(normalize=True).mul(100).round(1).astype(str) + '%'\n",
    "percent100"
   ]
  },
  {
   "cell_type": "code",
   "execution_count": 6,
   "metadata": {},
   "outputs": [
    {
     "data": {
      "text/html": [
       "<div>\n",
       "<style scoped>\n",
       "    .dataframe tbody tr th:only-of-type {\n",
       "        vertical-align: middle;\n",
       "    }\n",
       "\n",
       "    .dataframe tbody tr th {\n",
       "        vertical-align: top;\n",
       "    }\n",
       "\n",
       "    .dataframe thead th {\n",
       "        text-align: right;\n",
       "    }\n",
       "</style>\n",
       "<table border=\"1\" class=\"dataframe\">\n",
       "  <thead>\n",
       "    <tr style=\"text-align: right;\">\n",
       "      <th></th>\n",
       "      <th>counts</th>\n",
       "      <th>per</th>\n",
       "      <th>per100</th>\n",
       "    </tr>\n",
       "  </thead>\n",
       "  <tbody>\n",
       "    <tr>\n",
       "      <th>Medium</th>\n",
       "      <td>14</td>\n",
       "      <td>0.466667</td>\n",
       "      <td>46.7%</td>\n",
       "    </tr>\n",
       "    <tr>\n",
       "      <th>High</th>\n",
       "      <td>6</td>\n",
       "      <td>0.200000</td>\n",
       "      <td>20.0%</td>\n",
       "    </tr>\n",
       "    <tr>\n",
       "      <th>Low calorie</th>\n",
       "      <td>4</td>\n",
       "      <td>0.133333</td>\n",
       "      <td>13.3%</td>\n",
       "    </tr>\n",
       "    <tr>\n",
       "      <th>Med-High</th>\n",
       "      <td>4</td>\n",
       "      <td>0.133333</td>\n",
       "      <td>13.3%</td>\n",
       "    </tr>\n",
       "    <tr>\n",
       "      <th>Low-Med</th>\n",
       "      <td>1</td>\n",
       "      <td>0.033333</td>\n",
       "      <td>3.3%</td>\n",
       "    </tr>\n",
       "    <tr>\n",
       "      <th>Low- Med</th>\n",
       "      <td>1</td>\n",
       "      <td>0.033333</td>\n",
       "      <td>3.3%</td>\n",
       "    </tr>\n",
       "  </tbody>\n",
       "</table>\n",
       "</div>"
      ],
      "text/plain": [
       "             counts       per per100\n",
       "Medium           14  0.466667  46.7%\n",
       "High              6  0.200000  20.0%\n",
       "Low calorie       4  0.133333  13.3%\n",
       "Med-High          4  0.133333  13.3%\n",
       "Low-Med           1  0.033333   3.3%\n",
       "Low- Med          1  0.033333   3.3%"
      ]
     },
     "execution_count": 6,
     "metadata": {},
     "output_type": "execute_result"
    }
   ],
   "source": [
    "pd.DataFrame({'counts': counts, 'per': percent, 'per100': percent100})"
   ]
  },
  {
   "cell_type": "code",
   "execution_count": null,
   "metadata": {},
   "outputs": [],
   "source": [
    "s = df.energy\n",
    "counts = s.value_counts()\n",
    "percent = s.value_counts(normalize=True)\n",
    "percent100 = s.value_counts(normalize=True).mul(100).round(1).astype(str) + '%'\n",
    "pd.DataFrame({'counts': counts, 'per': percent, 'per100': percent100})"
   ]
  }
 ],
 "metadata": {
  "kernelspec": {
   "display_name": "Python 3",
   "language": "python",
   "name": "python3"
  },
  "language_info": {
   "codemirror_mode": {
    "name": "ipython",
    "version": 3
   },
   "file_extension": ".py",
   "mimetype": "text/x-python",
   "name": "python",
   "nbconvert_exporter": "python",
   "pygments_lexer": "ipython3",
   "version": "3.6.7"
  }
 },
 "nbformat": 4,
 "nbformat_minor": 2
}
