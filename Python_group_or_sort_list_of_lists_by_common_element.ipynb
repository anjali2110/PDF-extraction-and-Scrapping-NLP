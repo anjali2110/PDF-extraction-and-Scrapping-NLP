{
 "cells": [
  {
   "cell_type": "markdown",
   "metadata": {},
   "source": [
    "## Python group or sort list of lists by common element\n",
    "\n",
    " * Grouping of lists of list by position\n",
    " * Grouping of lists of list by key\n",
    " * Sort and group flatten lists of lists\n",
    " * Grouping list of lists different sizes\n",
    " \n",
    " #### Bonus tips\n",
    " \n",
    " \n",
    " * Sort list of lists elements\n",
    " * sort maps by key or value\n",
    " * Iterating list over every two elements\n",
    " * Iterating list over every N elements"
   ]
  },
  {
   "cell_type": "code",
   "execution_count": null,
   "metadata": {},
   "outputs": [],
   "source": [
    "# equaly sized list of lists \n",
    "[[\"Linux\", 0], [\"Windows 7\",1], [\"Ubuntu\",0], [\"Windows 10\",1], [\"MacOS\",2], [\"Linux Mint\",0]]\n",
    "\n",
    "# Different sized list of lists \n",
    "[[\"Linux\", 0, 22], [\"Windows 7\",1 , 5, 6], [\"Ubuntu\",0], [\"Linux Mint\"]]\n",
    "\n",
    "# flatten\n",
    "[\"Linux\", 0, \"Windows 7\",1, \"Ubuntu\",0, \"Windows 10\",1, \"MacOS\",2, \"Linux Mint\",0]"
   ]
  },
  {
   "cell_type": "markdown",
   "metadata": {},
   "source": [
    "#### Grouping of lists of list by position (size 2)"
   ]
  },
  {
   "cell_type": "code",
   "execution_count": 1,
   "metadata": {},
   "outputs": [
    {
     "data": {
      "text/plain": [
       "[['Linux', 'Ubuntu', 'Linux Mint'], ['Windows 7', 'Windows 10'], ['MacOS']]"
      ]
     },
     "execution_count": 1,
     "metadata": {},
     "output_type": "execute_result"
    }
   ],
   "source": [
    "# equaly sized list of lists \n",
    "raw_list = [[\"Linux\", 0], [\"Windows 7\",1], [\"Ubuntu\",0], [\"Windows 10\",1], [\"MacOS\",2], [\"Linux Mint\",0]]\n",
    "\n",
    "keys = set(map(lambda x:x[1], raw_list))\n",
    "new_list = [[y[0] for y in raw_list if y[1]==x] for x in keys]\n",
    "\n",
    "new_list"
   ]
  },
  {
   "cell_type": "code",
   "execution_count": 2,
   "metadata": {},
   "outputs": [
    {
     "data": {
      "text/plain": [
       "{0: ['Linux', 'Ubuntu', 'Linux Mint'],\n",
       " 1: ['Windows 7', 'Windows 10'],\n",
       " 2: ['MacOS']}"
      ]
     },
     "execution_count": 2,
     "metadata": {},
     "output_type": "execute_result"
    }
   ],
   "source": [
    "\n",
    "raw_list = [[\"Linux\", 0], [\"Windows 7\",1], [\"Ubuntu\",0], [\"Windows 10\",1], [\"MacOS\",2], [\"Linux Mint\",0]]\n",
    "\n",
    "keys = set(map(lambda x:x[1], raw_list))\n",
    "new_list = {x:[y[0] for y in raw_list if y[1]==x] for x in keys}\n",
    "\n",
    "new_list"
   ]
  },
  {
   "cell_type": "markdown",
   "metadata": {},
   "source": [
    "#### Grouping of lists of list by position (size 4)"
   ]
  },
  {
   "cell_type": "code",
   "execution_count": 5,
   "metadata": {},
   "outputs": [
    {
     "data": {
      "text/plain": [
       "{'Ubuntu': [['Xenial Xerus', 0.4], ['Bionic Beaver', 0]],\n",
       " 'Linux Mint': [['Rosa', 17.3], ['Sonya', 18.2]]}"
      ]
     },
     "execution_count": 5,
     "metadata": {},
     "output_type": "execute_result"
    }
   ],
   "source": [
    "raw_list = [\n",
    "    ['Linux Mint', 17, 'Rosa', 17.3], \n",
    "    ['Linux Mint', 18, 'Sonya', 18.2],\n",
    "    ['Ubuntu', 16, 'Xenial Xerus', 0.4],\n",
    "    ['Ubuntu', 18, 'Bionic Beaver', 0]]\n",
    "\n",
    "keys = set(map(lambda x:x[0], raw_list))\n",
    "unsorted_map = {x:[y[2:] for y in raw_list if y[0]==x] for x in keys}\n",
    "\n",
    "unsorted_map"
   ]
  },
  {
   "cell_type": "markdown",
   "metadata": {},
   "source": [
    "#### List of list different size"
   ]
  },
  {
   "cell_type": "code",
   "execution_count": 7,
   "metadata": {},
   "outputs": [],
   "source": [
    "raw_list = [\n",
    "    ['Linux Mint', 17, 'Rosa', 17.3], \n",
    "    ['Linux Mint', 18, 'Sonya', 18.2],\n",
    "    ['Ubuntu', 16, 'Xenial Xerus', 0.4],\n",
    "    ['Ubuntu', 18, 'Bionic Beaver', 0],\n",
    "    \n",
    "    ['Windows', 7, 'Home'],\n",
    "    ['Windows', 7, 'Profesional'],\n",
    "    ['Windows', 10, 'Ultimate']\n",
    "]"
   ]
  },
  {
   "cell_type": "code",
   "execution_count": 9,
   "metadata": {},
   "outputs": [
    {
     "data": {
      "text/plain": [
       "{'Ubuntu': [[16, 'Xenial Xerus'], [18, 'Bionic Beaver']],\n",
       " 'Linux Mint': [[17, 'Rosa'], [18, 'Sonya']],\n",
       " 'Windows': [[7, 'Home'], [7, 'Profesional'], [10, 'Ultimate']]}"
      ]
     },
     "execution_count": 9,
     "metadata": {},
     "output_type": "execute_result"
    }
   ],
   "source": [
    "keys = set(map(lambda x:x[0], raw_list))\n",
    "unsorted_map = {x:[y[1:3] for y in raw_list if y[0]==x] for x in keys}\n",
    "unsorted_map"
   ]
  },
  {
   "cell_type": "markdown",
   "metadata": {},
   "source": [
    "#### Sort python map by key or value"
   ]
  },
  {
   "cell_type": "code",
   "execution_count": 10,
   "metadata": {},
   "outputs": [
    {
     "data": {
      "text/plain": [
       "['Linux Mint', 'Ubuntu', 'Windows']"
      ]
     },
     "execution_count": 10,
     "metadata": {},
     "output_type": "execute_result"
    }
   ],
   "source": [
    "sorted(unsorted_map.keys())"
   ]
  },
  {
   "cell_type": "code",
   "execution_count": 11,
   "metadata": {},
   "outputs": [
    {
     "data": {
      "text/plain": [
       "[[[7, 'Home'], [7, 'Profesional'], [10, 'Ultimate']],\n",
       " [[16, 'Xenial Xerus'], [18, 'Bionic Beaver']],\n",
       " [[17, 'Rosa'], [18, 'Sonya']]]"
      ]
     },
     "execution_count": 11,
     "metadata": {},
     "output_type": "execute_result"
    }
   ],
   "source": [
    "sorted(unsorted_map.values())"
   ]
  },
  {
   "cell_type": "markdown",
   "metadata": {},
   "source": [
    "### Sort list of lists by key"
   ]
  },
  {
   "cell_type": "code",
   "execution_count": 12,
   "metadata": {},
   "outputs": [
    {
     "name": "stdout",
     "output_type": "stream",
     "text": [
      "Linux Mint: [[17, 'Rosa'], [18, 'Sonya']]\n",
      "Ubuntu: [[16, 'Xenial Xerus'], [18, 'Bionic Beaver']]\n",
      "Windows: [[7, 'Home'], [7, 'Profesional'], [10, 'Ultimate']]\n"
     ]
    }
   ],
   "source": [
    "for key in sorted(unsorted_map.keys()):\n",
    "    print (\"%s: %s\" % (key, unsorted_map[key]))"
   ]
  },
  {
   "cell_type": "code",
   "execution_count": 13,
   "metadata": {},
   "outputs": [
    {
     "name": "stdout",
     "output_type": "stream",
     "text": [
      "Windows: [[7, 'Home'], [7, 'Profesional'], [10, 'Ultimate']]\n",
      "Ubuntu: [[16, 'Xenial Xerus'], [18, 'Bionic Beaver']]\n",
      "Linux Mint: [[17, 'Rosa'], [18, 'Sonya']]\n"
     ]
    }
   ],
   "source": [
    "for key in sorted(unsorted_map.keys(), reverse=True):\n",
    "    print (\"%s: %s\" % (key, unsorted_map[key]))"
   ]
  },
  {
   "cell_type": "markdown",
   "metadata": {},
   "source": [
    "### Sort and group flatten lists of lists"
   ]
  },
  {
   "cell_type": "code",
   "execution_count": 17,
   "metadata": {},
   "outputs": [],
   "source": [
    "os_list = [\n",
    "    'Ubuntu 18',\n",
    "    'This article informs you about Ubuntu 18.04 release date,',\n",
    "    'Released',\n",
    "    \n",
    "    'Ubuntu 20',\n",
    "    'The desktop image allows you to try Ubuntu without changing y..',\n",
    "    'Not Released',\n",
    "    \n",
    "    'Ubuntu 19',\n",
    "    'Ubuntu is an open source software operating system that runs from',\n",
    "    'Released',\n",
    "    \n",
    "    'Linux mint 18',\n",
    "    'Linux Mint is an elegant, easy to use, up to date and comfortable',\n",
    "    'Released',\n",
    "    \n",
    "    'Linux mint 20',\n",
    "    'Suggestion: For Mint 20 to go full Debian',\n",
    "    'Not Released',\n",
    "    \n",
    "    'Linux mint 19',\n",
    "    'Linux Mint 19 is a long term support release which will be supported until 2023',\n",
    "    'Released',\n",
    "\n",
    "    'Windows 7',\n",
    "    'Windows 7 is a personal computer operating system that was ..',\n",
    "    'Windows 10',\n",
    "    'Windows 10 is a series of personal computer operating systems',\n",
    "    \"Windows XP\",\n",
    "    'Windows XP is old, and Microsoft no longer provides official support']"
   ]
  },
  {
   "cell_type": "code",
   "execution_count": 14,
   "metadata": {},
   "outputs": [
    {
     "name": "stdout",
     "output_type": "stream",
     "text": [
      "[1, 2]\n",
      "[3, 4]\n",
      "[5, 6]\n"
     ]
    }
   ],
   "source": [
    "# iterating over every two elements\n",
    "test_list = [1, 2, 3, 4, 5, 6]\n",
    "\n",
    "for i in range(0, len(test_list), 2):\n",
    "    print (test_list[i:i+2])"
   ]
  },
  {
   "cell_type": "code",
   "execution_count": 15,
   "metadata": {},
   "outputs": [
    {
     "name": "stdout",
     "output_type": "stream",
     "text": [
      "[0, 1, 2]\n",
      "[3, 4, 5]\n",
      "[6, 7, 8]\n",
      "[9]\n"
     ]
    }
   ],
   "source": [
    "# iterating over every N elements\n",
    "test_list = list(range(0, 10))\n",
    "\n",
    "for i in range(0, len(test_list), 3):\n",
    "    print (test_list[i:i+3])"
   ]
  },
  {
   "cell_type": "code",
   "execution_count": 18,
   "metadata": {},
   "outputs": [
    {
     "data": {
      "text/plain": [
       "['Windows 7',\n",
       " 'Windows 7 is a personal computer operating system that was ..',\n",
       " 'Windows 10',\n",
       " 'Windows 10 is a series of personal computer operating systems',\n",
       " 'Windows XP',\n",
       " 'Windows XP is old, and Microsoft no longer provides official support']"
      ]
     },
     "execution_count": 18,
     "metadata": {},
     "output_type": "execute_result"
    }
   ],
   "source": [
    "list3 = []\n",
    "last = 0\n",
    "for i in range(0, len(os_list), 3):\n",
    "    if i+2 < len(os_list) and os_list[i+2] in ['Released', 'Not Released']:\n",
    "        list3.append(os_list[i:i+3])\n",
    "        last = i+3\n",
    "list2 = os_list[last:]\n",
    "list2"
   ]
  },
  {
   "cell_type": "code",
   "execution_count": 19,
   "metadata": {},
   "outputs": [
    {
     "data": {
      "text/plain": [
       "[['Ubuntu 18',\n",
       "  'This article informs you about Ubuntu 18.04 release date,',\n",
       "  'Released'],\n",
       " ['Ubuntu 20',\n",
       "  'The desktop image allows you to try Ubuntu without changing y..',\n",
       "  'Not Released'],\n",
       " ['Ubuntu 19',\n",
       "  'Ubuntu is an open source software operating system that runs from',\n",
       "  'Released'],\n",
       " ['Linux mint 18',\n",
       "  'Linux Mint is an elegant, easy to use, up to date and comfortable',\n",
       "  'Released'],\n",
       " ['Linux mint 20',\n",
       "  'Suggestion: For Mint 20 to go full Debian',\n",
       "  'Not Released'],\n",
       " ['Linux mint 19',\n",
       "  'Linux Mint 19 is a long term support release which will be supported until 2023',\n",
       "  'Released']]"
      ]
     },
     "execution_count": 19,
     "metadata": {},
     "output_type": "execute_result"
    }
   ],
   "source": [
    "list3"
   ]
  },
  {
   "cell_type": "code",
   "execution_count": 20,
   "metadata": {},
   "outputs": [],
   "source": [
    "def sortList(working_list, category, category2):\n",
    "    listx = []\n",
    "    listy = []\n",
    "    last_section = 0\n",
    "    for i in range(0, len(os_list) - 3, 3):\n",
    "            if working_list[i + 2] == category:\n",
    "                listy.append(working_list[i])\n",
    "                listy.append(working_list[i + 1])\n",
    "                last_section = i + 2\n",
    "            elif working_list[i + 2] == category2:\n",
    "                listx.append(working_list[i])\n",
    "                listx.append(working_list[i + 1])\n",
    "                last_section = i + 2\n",
    "\n",
    "    if last_section > 0:\n",
    "        listz = working_list[(last_section + 1):]\n",
    "    else:\n",
    "        listz = working_list[(last_section):]\n",
    "\n",
    "    return listx, listy, listz"
   ]
  },
  {
   "cell_type": "code",
   "execution_count": 21,
   "metadata": {},
   "outputs": [
    {
     "data": {
      "text/plain": [
       "['Ubuntu 20',\n",
       " 'The desktop image allows you to try Ubuntu without changing y..',\n",
       " 'Linux mint 20',\n",
       " 'Suggestion: For Mint 20 to go full Debian']"
      ]
     },
     "execution_count": 21,
     "metadata": {},
     "output_type": "execute_result"
    }
   ],
   "source": [
    "listx, listy, listz = sortList(os_list, 'Released', 'Not Released')\n",
    "listx"
   ]
  },
  {
   "cell_type": "code",
   "execution_count": 22,
   "metadata": {},
   "outputs": [
    {
     "data": {
      "text/plain": [
       "['Ubuntu 18',\n",
       " 'This article informs you about Ubuntu 18.04 release date,',\n",
       " 'Ubuntu 19',\n",
       " 'Ubuntu is an open source software operating system that runs from',\n",
       " 'Linux mint 18',\n",
       " 'Linux Mint is an elegant, easy to use, up to date and comfortable',\n",
       " 'Linux mint 19',\n",
       " 'Linux Mint 19 is a long term support release which will be supported until 2023']"
      ]
     },
     "execution_count": 22,
     "metadata": {},
     "output_type": "execute_result"
    }
   ],
   "source": [
    "listy"
   ]
  },
  {
   "cell_type": "code",
   "execution_count": 23,
   "metadata": {},
   "outputs": [
    {
     "data": {
      "text/plain": [
       "['Windows 7',\n",
       " 'Windows 7 is a personal computer operating system that was ..',\n",
       " 'Windows 10',\n",
       " 'Windows 10 is a series of personal computer operating systems',\n",
       " 'Windows XP',\n",
       " 'Windows XP is old, and Microsoft no longer provides official support']"
      ]
     },
     "execution_count": 23,
     "metadata": {},
     "output_type": "execute_result"
    }
   ],
   "source": [
    "listz"
   ]
  },
  {
   "cell_type": "markdown",
   "metadata": {},
   "source": [
    "## Generic solution for flatten list"
   ]
  },
  {
   "cell_type": "code",
   "execution_count": 24,
   "metadata": {},
   "outputs": [
    {
     "data": {
      "text/plain": [
       "[['Ubuntu 18',\n",
       "  'This article informs you about Ubuntu 18.04 release date,',\n",
       "  'Released'],\n",
       " ['Ubuntu 20',\n",
       "  'The desktop image allows you to try Ubuntu without changing y..',\n",
       "  'Not Released'],\n",
       " ['Ubuntu 19',\n",
       "  'Ubuntu is an open source software operating system that runs from',\n",
       "  'Released'],\n",
       " ['Linux mint 18',\n",
       "  'Linux Mint is an elegant, easy to use, up to date and comfortable',\n",
       "  'Released'],\n",
       " ['Linux mint 20',\n",
       "  'Suggestion: For Mint 20 to go full Debian',\n",
       "  'Not Released'],\n",
       " ['Linux mint 19',\n",
       "  'Linux Mint 19 is a long term support release which will be supported until 2023',\n",
       "  'Released']]"
      ]
     },
     "execution_count": 24,
     "metadata": {},
     "output_type": "execute_result"
    }
   ],
   "source": [
    "os_list = [\n",
    "    \n",
    "    \n",
    "    'Windows 10',\n",
    "    'Windows 10 is a series of personal computer operating systems',\n",
    "    \"Windows XP\",\n",
    "    'Windows XP is old, and Microsoft no longer provides official support',\n",
    "    \n",
    "    'Ubuntu 18',\n",
    "    'This article informs you about Ubuntu 18.04 release date,',\n",
    "    'Released',\n",
    "\n",
    "    'Ubuntu 20',\n",
    "    'The desktop image allows you to try Ubuntu without changing y..',\n",
    "    'Not Released',\n",
    "\n",
    "    'Windows 7',\n",
    "    'Windows 7 is a personal computer operating system that was ..',\n",
    "\n",
    "    'Ubuntu 19',\n",
    "    'Ubuntu is an open source software operating system that runs from',\n",
    "    'Released',\n",
    "\n",
    "    'Linux mint 18',\n",
    "    'Linux Mint is an elegant, easy to use, up to date and comfortable',\n",
    "    'Released',\n",
    "\n",
    "    'Linux mint 20',\n",
    "    'Suggestion: For Mint 20 to go full Debian',\n",
    "    'Not Released',\n",
    "\n",
    "    'Linux mint 19',\n",
    "    'Linux Mint 19 is a long term support release which will be supported until 2023',\n",
    "    'Released',\n",
    "\n",
    "]\n",
    "\n",
    "list3 = []\n",
    "list2 = []\n",
    "cur = 0\n",
    "\n",
    "os_list_tmp = os_list\n",
    "\n",
    "while cur <= len(os_list_tmp):\n",
    "    cur = 0\n",
    "    if cur+2 < len(os_list_tmp) and os_list_tmp[cur+2] in ['Released', 'Not Released']:\n",
    "        list3.append(os_list_tmp[cur:cur+3])\n",
    "        cur = cur + 3\n",
    "    else:\n",
    "        list2.append(os_list_tmp[cur:cur+2])\n",
    "        cur = cur + 2\n",
    "    os_list_tmp = os_list_tmp[cur:]\n",
    "list3"
   ]
  },
  {
   "cell_type": "code",
   "execution_count": 25,
   "metadata": {},
   "outputs": [
    {
     "data": {
      "text/plain": [
       "[['Windows 10',\n",
       "  'Windows 10 is a series of personal computer operating systems'],\n",
       " ['Windows XP',\n",
       "  'Windows XP is old, and Microsoft no longer provides official support'],\n",
       " ['Windows 7',\n",
       "  'Windows 7 is a personal computer operating system that was ..']]"
      ]
     },
     "execution_count": 25,
     "metadata": {},
     "output_type": "execute_result"
    }
   ],
   "source": [
    "list2"
   ]
  },
  {
   "cell_type": "code",
   "execution_count": null,
   "metadata": {},
   "outputs": [],
   "source": []
  },
  {
   "cell_type": "code",
   "execution_count": null,
   "metadata": {},
   "outputs": [],
   "source": []
  }
 ],
 "metadata": {
  "kernelspec": {
   "display_name": "Python 3",
   "language": "python",
   "name": "python3"
  },
  "language_info": {
   "codemirror_mode": {
    "name": "ipython",
    "version": 3
   },
   "file_extension": ".py",
   "mimetype": "text/x-python",
   "name": "python",
   "nbconvert_exporter": "python",
   "pygments_lexer": "ipython3",
   "version": "3.6.7"
  }
 },
 "nbformat": 4,
 "nbformat_minor": 2
}
